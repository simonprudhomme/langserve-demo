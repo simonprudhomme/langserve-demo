{
 "cells": [
  {
   "cell_type": "markdown",
   "metadata": {},
   "source": [
    "# Test endpoints"
   ]
  },
  {
   "cell_type": "markdown",
   "metadata": {},
   "source": [
    "### Define variables"
   ]
  },
  {
   "cell_type": "code",
   "execution_count": 1,
   "metadata": {},
   "outputs": [],
   "source": [
    "issue = \"\"\"\n",
    "I have a probleme with my website.\n",
    "\"\"\"\n",
    "\n",
    "additional_info = \"\"\"\n",
    "It is very slow.\n",
    "\"\"\""
   ]
  },
  {
   "cell_type": "markdown",
   "metadata": {},
   "source": [
    "### Cloud Run"
   ]
  },
  {
   "cell_type": "code",
   "execution_count": 2,
   "metadata": {},
   "outputs": [],
   "source": [
    "from langserve import RemoteRunnable\n",
    "chain = RemoteRunnable(\"https://llm-demo-3n77uglm4a-ue.a.run.app/issue-explanation/\") # Replace with your own Cloud Run Endpoint"
   ]
  },
  {
   "cell_type": "code",
   "execution_count": 3,
   "metadata": {},
   "outputs": [
    {
     "data": {
      "text/plain": [
       "\"If your website is experiencing slow performance, there could be several underlying issues causing this problem. Here's a detailed explanation of potential causes and their solutions:\\n\\n1. **Web Hosting**: If your hosting server is not powerful enough to handle the traffic your website is receiving, it could slow down the website's performance. Shared hosting, in particular, can be problematic if other sites on the same server are using too many resources.\\n\\n   *Solution*: Consider upgrading your hosting plan or moving to a more robust hosting solution like a Virtual Private Server (VPS) or dedicated hosting.\\n\\n2. **Unoptimized Images**: Large image files can significantly slow down your website as they take longer to load.\\n\\n   *Solution*: Optimize your images by compressing them and using appropriate file formats (e.g., JPEG for photographs, PNG for graphics with transparency).\\n\\n3. **Excessive HTTP Requests**: Every piece of your website (images, scripts, CSS files) requires a separate HTTP request to load. Too many requests can slow down your site.\\n\\n   *Solution*: Reduce the number of elements on your pages, combine CSS and JavaScript files, and use CSS sprites for images.\\n\\n4. **Unoptimized Code**: Bulky code with unnecessary characters, comments, and unused scripts can slow down your website.\\n\\n   *Solution*: Minify CSS, JavaScript, and HTML by removing unnecessary characters without changing functionality.\\n\\n5. **Too Many Ads**: Excessive advertising can make your website slow due to the additional HTTP requests and JavaScript that ads often require.\\n\\n   *Solution*: Limit the number of ads and ensure they are optimized for performance.\\n\\n6. **Content Management System (CMS) Issues**: If you're using a CMS like WordPress, plugins, and themes can impact your site's speed.\\n\\n   *Solution*: Regularly update your CMS, themes, and plugins. Deactivate and delete any unnecessary plugins.\\n\\n7. **Database Issues**: Over time, databases can become bloated with unnecessary data.\\n\\n   *Solution*: Optimize your database by cleaning up old data, reducing post revisions, and using a database optimization plugin if you're on a CMS.\\n\\n8. **Web Server Configuration**: Your web server might not be configured optimally for website performance.\\n\\n   *Solution*: Ensure that caching is properly configured. Use tools like Gzip to compress your website's files before sending them to the browser.\\n\\n9. **Network Issues**: Sometimes the problem might be with the user's network or the internet service provider, which can be harder to diagnose.\\n\\n   *Solution*: Use a Content Delivery Network (CDN) to distribute your content globally and reduce the distance it needs to travel to reach your users.\\n\\n10. **Third-Party Scripts**: External scripts such as font loaders, analytics services, or social media buttons can impact performance.\\n\\n    *Solution*: Evaluate the necessity of each script. Load scripts asynchronously to prevent them from blocking the rest of your content.\\n\\nTo diagnose the specific causes of your website's slow performance, you can use tools like Google PageSpeed Insights, GTmetrix, or Pingdom. These tools will analyze your website and provide recommendations for improvement. It's important to address each issue systematically, as improving website speed can enhance user experience, search engine rankings, and overall website effectiveness.\""
      ]
     },
     "execution_count": 3,
     "metadata": {},
     "output_type": "execute_result"
    }
   ],
   "source": [
    "# Test Batch\n",
    "chain.invoke(input={'issue': issue, \n",
    "                    'additional_info': additional_info}, \n",
    "             config={\"metadata\": {\"issue_id\": \"this is a test\"},\n",
    "                     \"tags\": [\"issue_explanation\"]}\n",
    "             )"
   ]
  },
  {
   "cell_type": "code",
   "execution_count": 5,
   "metadata": {},
   "outputs": [
    {
     "ename": "HTTPStatusError",
     "evalue": "Internal Server Error",
     "output_type": "error",
     "traceback": [
      "\u001b[0;31m---------------------------------------------------------------------------\u001b[0m",
      "\u001b[0;31mHTTPStatusError\u001b[0m                           Traceback (most recent call last)",
      "Cell \u001b[0;32mIn[5], line 2\u001b[0m\n\u001b[1;32m      1\u001b[0m \u001b[38;5;66;03m# Test Streaming\u001b[39;00m\n\u001b[0;32m----> 2\u001b[0m \u001b[38;5;28;43;01mfor\u001b[39;49;00m\u001b[43m \u001b[49m\u001b[43ms\u001b[49m\u001b[43m \u001b[49m\u001b[38;5;129;43;01min\u001b[39;49;00m\u001b[43m \u001b[49m\u001b[43mchain\u001b[49m\u001b[38;5;241;43m.\u001b[39;49m\u001b[43mstream\u001b[49m\u001b[43m(\u001b[49m\u001b[43m{\u001b[49m\u001b[38;5;124;43m'\u001b[39;49m\u001b[38;5;124;43missue\u001b[39;49m\u001b[38;5;124;43m'\u001b[39;49m\u001b[43m:\u001b[49m\u001b[43m \u001b[49m\u001b[43missue\u001b[49m\u001b[43m,\u001b[49m\u001b[43m \u001b[49m\n\u001b[1;32m      3\u001b[0m \u001b[43m                       \u001b[49m\u001b[38;5;124;43m'\u001b[39;49m\u001b[38;5;124;43madditional_info\u001b[39;49m\u001b[38;5;124;43m'\u001b[39;49m\u001b[43m:\u001b[49m\u001b[43m \u001b[49m\u001b[43madditional_info\u001b[49m\u001b[43m}\u001b[49m\u001b[43m,\u001b[49m\u001b[43m \u001b[49m\n\u001b[1;32m      4\u001b[0m \u001b[43m                      \u001b[49m\u001b[43m{\u001b[49m\u001b[38;5;124;43m\"\u001b[39;49m\u001b[38;5;124;43mmetadata\u001b[39;49m\u001b[38;5;124;43m\"\u001b[39;49m\u001b[43m:\u001b[49m\u001b[43m \u001b[49m\u001b[43m{\u001b[49m\u001b[38;5;124;43m\"\u001b[39;49m\u001b[38;5;124;43missue_id\u001b[39;49m\u001b[38;5;124;43m\"\u001b[39;49m\u001b[43m:\u001b[49m\u001b[43m \u001b[49m\u001b[38;5;124;43m\"\u001b[39;49m\u001b[38;5;124;43mthis is a test\u001b[39;49m\u001b[38;5;124;43m\"\u001b[39;49m\u001b[43m}\u001b[49m\u001b[43m,\u001b[49m\n\u001b[1;32m      5\u001b[0m \u001b[43m                       \u001b[49m\u001b[38;5;124;43m\"\u001b[39;49m\u001b[38;5;124;43mtags\u001b[39;49m\u001b[38;5;124;43m\"\u001b[39;49m\u001b[43m:\u001b[49m\u001b[43m \u001b[49m\u001b[43m[\u001b[49m\u001b[38;5;124;43m\"\u001b[39;49m\u001b[38;5;124;43missue_explanation\u001b[39;49m\u001b[38;5;124;43m\"\u001b[39;49m\u001b[43m]\u001b[49m\n\u001b[1;32m      6\u001b[0m \u001b[43m                                \u001b[49m\u001b[43m}\u001b[49m\u001b[43m)\u001b[49m\u001b[43m:\u001b[49m\n\u001b[1;32m      7\u001b[0m \u001b[43m    \u001b[49m\u001b[38;5;28;43mprint\u001b[39;49m\u001b[43m(\u001b[49m\u001b[43ms\u001b[49m\u001b[43m,\u001b[49m\u001b[43m \u001b[49m\u001b[43mend\u001b[49m\u001b[38;5;241;43m=\u001b[39;49m\u001b[38;5;124;43m\"\u001b[39;49m\u001b[38;5;124;43m\"\u001b[39;49m\u001b[43m,\u001b[49m\u001b[43m \u001b[49m\u001b[43mflush\u001b[49m\u001b[38;5;241;43m=\u001b[39;49m\u001b[38;5;28;43;01mTrue\u001b[39;49;00m\u001b[43m)\u001b[49m\n",
      "File \u001b[0;32m~/Desktop/demo/venv/lib/python3.11/site-packages/langserve/client.py:512\u001b[0m, in \u001b[0;36mRemoteRunnable.stream\u001b[0;34m(self, input, config, **kwargs)\u001b[0m\n\u001b[1;32m    509\u001b[0m                 final_output_supported \u001b[38;5;241m=\u001b[39m \u001b[38;5;28;01mFalse\u001b[39;00m\n\u001b[1;32m    510\u001b[0m \u001b[38;5;28;01melif\u001b[39;00m sse\u001b[38;5;241m.\u001b[39mevent \u001b[38;5;241m==\u001b[39m \u001b[38;5;124m\"\u001b[39m\u001b[38;5;124merror\u001b[39m\u001b[38;5;124m\"\u001b[39m:\n\u001b[1;32m    511\u001b[0m     \u001b[38;5;66;03m# This can only be a server side error\u001b[39;00m\n\u001b[0;32m--> 512\u001b[0m     \u001b[43m_raise_exception_from_data\u001b[49m\u001b[43m(\u001b[49m\n\u001b[1;32m    513\u001b[0m \u001b[43m        \u001b[49m\u001b[43msse\u001b[49m\u001b[38;5;241;43m.\u001b[39;49m\u001b[43mdata\u001b[49m\u001b[43m,\u001b[49m\u001b[43m \u001b[49m\u001b[43mhttpx\u001b[49m\u001b[38;5;241;43m.\u001b[39;49m\u001b[43mRequest\u001b[49m\u001b[43m(\u001b[49m\u001b[43mmethod\u001b[49m\u001b[38;5;241;43m=\u001b[39;49m\u001b[38;5;124;43m\"\u001b[39;49m\u001b[38;5;124;43mPOST\u001b[39;49m\u001b[38;5;124;43m\"\u001b[39;49m\u001b[43m,\u001b[49m\u001b[43m \u001b[49m\u001b[43murl\u001b[49m\u001b[38;5;241;43m=\u001b[39;49m\u001b[43mendpoint\u001b[49m\u001b[43m)\u001b[49m\n\u001b[1;32m    514\u001b[0m \u001b[43m    \u001b[49m\u001b[43m)\u001b[49m\n\u001b[1;32m    515\u001b[0m \u001b[38;5;28;01melif\u001b[39;00m sse\u001b[38;5;241m.\u001b[39mevent \u001b[38;5;241m==\u001b[39m \u001b[38;5;124m\"\u001b[39m\u001b[38;5;124mmetadata\u001b[39m\u001b[38;5;124m\"\u001b[39m:\n\u001b[1;32m    516\u001b[0m     \u001b[38;5;66;03m# Nothing to do for metadata for the regular remote client.\u001b[39;00m\n\u001b[1;32m    517\u001b[0m     \u001b[38;5;28;01mcontinue\u001b[39;00m\n",
      "File \u001b[0;32m~/Desktop/demo/venv/lib/python3.11/site-packages/langserve/client.py:152\u001b[0m, in \u001b[0;36m_raise_exception_from_data\u001b[0;34m(data, request)\u001b[0m\n\u001b[1;32m    146\u001b[0m \u001b[38;5;28;01mexcept\u001b[39;00m json\u001b[38;5;241m.\u001b[39mJSONDecodeError:\n\u001b[1;32m    147\u001b[0m     \u001b[38;5;28;01mraise\u001b[39;00m httpx\u001b[38;5;241m.\u001b[39mHTTPStatusError(\n\u001b[1;32m    148\u001b[0m         message\u001b[38;5;241m=\u001b[39m\u001b[38;5;124m\"\u001b[39m\u001b[38;5;124minvalid json in error event sent from server\u001b[39m\u001b[38;5;124m\"\u001b[39m,\n\u001b[1;32m    149\u001b[0m         request\u001b[38;5;241m=\u001b[39m_sanitize_request(request),\n\u001b[1;32m    150\u001b[0m         response\u001b[38;5;241m=\u001b[39mhttpx\u001b[38;5;241m.\u001b[39mResponse(status_code\u001b[38;5;241m=\u001b[39m\u001b[38;5;241m500\u001b[39m, text\u001b[38;5;241m=\u001b[39mdata),\n\u001b[1;32m    151\u001b[0m     )\n\u001b[0;32m--> 152\u001b[0m \u001b[38;5;28;01mraise\u001b[39;00m httpx\u001b[38;5;241m.\u001b[39mHTTPStatusError(\n\u001b[1;32m    153\u001b[0m     message\u001b[38;5;241m=\u001b[39mdecoded_data[\u001b[38;5;124m\"\u001b[39m\u001b[38;5;124mmessage\u001b[39m\u001b[38;5;124m\"\u001b[39m],\n\u001b[1;32m    154\u001b[0m     request\u001b[38;5;241m=\u001b[39m_sanitize_request(request),\n\u001b[1;32m    155\u001b[0m     response\u001b[38;5;241m=\u001b[39mhttpx\u001b[38;5;241m.\u001b[39mResponse(\n\u001b[1;32m    156\u001b[0m         status_code\u001b[38;5;241m=\u001b[39mdecoded_data[\u001b[38;5;124m\"\u001b[39m\u001b[38;5;124mstatus_code\u001b[39m\u001b[38;5;124m\"\u001b[39m],\n\u001b[1;32m    157\u001b[0m         text\u001b[38;5;241m=\u001b[39mdecoded_data[\u001b[38;5;124m\"\u001b[39m\u001b[38;5;124mmessage\u001b[39m\u001b[38;5;124m\"\u001b[39m],\n\u001b[1;32m    158\u001b[0m     ),\n\u001b[1;32m    159\u001b[0m )\n",
      "\u001b[0;31mHTTPStatusError\u001b[0m: Internal Server Error"
     ]
    }
   ],
   "source": [
    "# Test Streaming\n",
    "for s in chain.stream({'issue': issue, \n",
    "                       'additional_info': additional_info}, \n",
    "                      {\"metadata\": {\"issue_id\": \"this is a test\"},\n",
    "                       \"tags\": [\"issue_explanation\"]\n",
    "                                }):\n",
    "    print(s, end=\"\", flush=True)"
   ]
  },
  {
   "cell_type": "markdown",
   "metadata": {},
   "source": [
    "### Local testing"
   ]
  },
  {
   "cell_type": "markdown",
   "metadata": {},
   "source": [
    "!Make sure the service is running on port 8000\n",
    "\n",
    "http://127.0.0.1:8000/docs"
   ]
  },
  {
   "cell_type": "code",
   "execution_count": 6,
   "metadata": {},
   "outputs": [],
   "source": [
    "from langserve import RemoteRunnable\n",
    "chain = RemoteRunnable(\"http://127.0.0.1:8000/issue-explanation/\") # Local server endpoint"
   ]
  },
  {
   "cell_type": "code",
   "execution_count": 7,
   "metadata": {},
   "outputs": [
    {
     "data": {
      "text/plain": [
       "\"If your website is experiencing slow performance, there could be several underlying issues causing this problem. Here's a detailed explanation of potential causes and what you might consider investigating to resolve the issue:\\n\\n1. **Web Hosting**: Your hosting service could be inadequate for your website's needs. Shared hosting, for example, can slow down a website if other sites on the same server are using too many resources. Consider upgrading to a VPS or dedicated server if your traffic has increased.\\n\\n2. **High Traffic**: If your website has recently seen an increase in traffic, your server may not be able to handle the load, resulting in slow response times.\\n\\n3. **Unoptimized Images**: Large image files can significantly slow down page loading times. Ensure that all images are properly optimized for the web, using the correct format (like JPEG, PNG, or WebP) and compression.\\n\\n4. **Excessive HTTP Requests**: Too many scripts, stylesheets, and plugin files can create an excessive number of HTTP requests, causing delays in page loading.\\n\\n5. **Unoptimized Code**: Bulky code, including JavaScript, CSS, and HTML, can slow down your website. Minifying and combining files can help reduce load times.\\n\\n6. **Content Delivery Network (CDN)**: Not using a CDN can slow down your website for users who are geographically distant from your server. A CDN can distribute your content across multiple servers around the world, speeding up access for global users.\\n\\n7. **Caching Issues**: If your website doesn't properly utilize caching, it can lead to slow loading times as the server must regenerate the same content for each request.\\n\\n8. **Database Performance**: Slow database queries can significantly impact your website's performance. Optimizing your database can help, as can using a persistent object cache.\\n\\n9. **Outdated CMS or Plugins**: If you're using a content management system (CMS) like WordPress, outdated core software or plugins can lead to performance issues. Keep your CMS and plugins up to date.\\n\\n10. **Web Server Configuration**: Misconfigured servers can cause performance bottlenecks. Ensure that your web server software (like Apache, Nginx, or IIS) is properly set up for your website's traffic and content.\\n\\n11. **Third-Party Services**: External services like ads, font loaders, analytics, or widgets can slow down your website if they experience issues or are slow to load.\\n\\n12. **Mobile Optimization**: If your website isn't optimized for mobile devices, it can load slowly on smartphones and tablets due to the need to resize content and images.\\n\\nTo diagnose and fix the issue, you can:\\n\\n- Use website speed test tools like Google PageSpeed Insights, GTmetrix, or Pingdom to identify specific problems and get recommendations for improvement.\\n- Review your web hosting plan and consider upgrading if necessary.\\n- Optimize images and code, and reduce the number of HTTP requests.\\n- Implement a CDN and caching strategy.\\n- Regularly update your CMS and plugins.\\n- Optimize your database and review your web server's configuration.\\n- Minimize the use of third-party services or ensure they are optimized for performance.\\n\\nBy systematically addressing these areas, you should be able to improve the speed of your website and provide a better experience for your users.\""
      ]
     },
     "execution_count": 7,
     "metadata": {},
     "output_type": "execute_result"
    }
   ],
   "source": [
    "# Invoke\n",
    "chain.invoke(input={'issue': issue, \n",
    "                    'additional_info': additional_info}, \n",
    "             config={\"metadata\": {\"issue_id\": \"this is a test\"},\n",
    "                     \"tags\": [\"issue_explanation\"]}\n",
    "             )"
   ]
  },
  {
   "cell_type": "code",
   "execution_count": 10,
   "metadata": {},
   "outputs": [
    {
     "name": "stdout",
     "output_type": "stream",
     "text": [
      "Your website's slow performance could be due to various factors, including unoptimized images, excessive use of plugins or scripts, inadequate hosting resources, outdated CMS or software, inefficient code, or large amounts of traffic. It's important to analyze specific elements such as server response time, page load times, and resource usage to identify the bottleneck. Tools like Google PageSpeed Insights can help diagnose the issues and suggest improvements. Ensuring your website is properly optimized for speed involves compressing images, caching content, minifying CSS and JavaScript, and possibly upgrading your hosting plan."
     ]
    }
   ],
   "source": [
    "# Streaming\n",
    "for s in chain.stream({'issue': issue, \n",
    "                       'additional_info': additional_info}, \n",
    "                      {\"metadata\": {\"issue_id\": \"this is a test\"},\n",
    "                       \"tags\": [\"issue_explanation\"]\n",
    "                                }):\n",
    "    print(s, end=\"\", flush=True)"
   ]
  },
  {
   "cell_type": "code",
   "execution_count": 9,
   "metadata": {},
   "outputs": [
    {
     "name": "stdout",
     "output_type": "stream",
     "text": [
      "Your website's slow performance could be due to various factors, including unoptimized images, excessive use of plugins or widgets, inadequate hosting resources, outdated CMS or themes, inefficient code, or large amounts of traffic. It's important to analyze specific elements such as server response time, page load times, and resource usage to identify the bottleneck. Tools like Google PageSpeed Insights can help diagnose the issue and suggest improvements. Ensuring your website is properly optimized for speed involves compressing images, caching content, minifying CSS and JavaScript, and possibly upgrading your hosting plan."
     ]
    }
   ],
   "source": [
    "# Async Stream\n",
    "async for s in chain.astream({'issue': issue, \n",
    "                              'additional_info': additional_info}):\n",
    "    print(s, end=\"\", flush=True)"
   ]
  },
  {
   "cell_type": "code",
   "execution_count": null,
   "metadata": {},
   "outputs": [],
   "source": []
  }
 ],
 "metadata": {
  "kernelspec": {
   "display_name": "venv",
   "language": "python",
   "name": "python3"
  },
  "language_info": {
   "codemirror_mode": {
    "name": "ipython",
    "version": 3
   },
   "file_extension": ".py",
   "mimetype": "text/x-python",
   "name": "python",
   "nbconvert_exporter": "python",
   "pygments_lexer": "ipython3",
   "version": "3.11.3"
  }
 },
 "nbformat": 4,
 "nbformat_minor": 2
}
